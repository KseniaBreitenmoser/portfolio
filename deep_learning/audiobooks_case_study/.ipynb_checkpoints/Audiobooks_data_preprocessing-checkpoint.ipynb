{
 "cells": [
  {
   "cell_type": "markdown",
   "id": "3a6a61d0-a543-48f7-b36f-c5f71d174e27",
   "metadata": {},
   "source": [
    "# Practical Example. Audiobooks"
   ]
  },
  {
   "cell_type": "markdown",
   "id": "bb012886-a7cf-45ad-a240-1d34ceb9e3a7",
   "metadata": {},
   "source": [
    "## Preprocess the data"
   ]
  },
  {
   "cell_type": "code",
   "execution_count": 19,
   "id": "b832b086-2857-43a5-8539-9507dff10cd0",
   "metadata": {},
   "outputs": [],
   "source": [
    "import numpy as np\n",
    "from sklearn import preprocessing\n",
    "\n",
    "raw_csv_data = np.loadtxt('Audiobooks_data.csv', delimiter = ',')\n",
    "unscaled_inputs_all = raw_csv_data[:,1:-1]\n",
    "targets_all = raw_csv_data[:,-1]"
   ]
  },
  {
   "cell_type": "markdown",
   "id": "0541e5af-32cc-44b4-b487-613c0560d1c5",
   "metadata": {},
   "source": [
    "### Balance dataset"
   ]
  },
  {
   "cell_type": "code",
   "execution_count": 24,
   "id": "8c20a613-1618-4090-b5ee-c592da749cb3",
   "metadata": {},
   "outputs": [],
   "source": [
    "num_one_targets = int(np.sum(targets_all))\n",
    "zero_target_counter = 0\n",
    "indices_to_remove = []\n",
    "\n",
    "for i in range(targets_all.shape[0]):\n",
    "    if targets_all[i] == 0:\n",
    "        zero_target_counter += 1\n",
    "        if zero_target_counter > num_one_targets:\n",
    "            indices_to_remove.append(i)\n",
    "\n",
    "unscaled_inputs_equal_priors = np.delete(unscaled_inputs_all,indices_to_remove, axis = 0)\n",
    "targets_equal_priors = np.delete(targets_all, indices_to_remove, axis = 0)"
   ]
  },
  {
   "cell_type": "markdown",
   "id": "08d8b362-418d-44d3-93de-dc12db998a2d",
   "metadata": {},
   "source": [
    "### Standardizing the inputs"
   ]
  },
  {
   "cell_type": "code",
   "execution_count": 25,
   "id": "b1074be0-ff0a-41c4-8988-d0fd2d6f08a1",
   "metadata": {},
   "outputs": [],
   "source": [
    "scaled_inputs = preprocessing.scale(unscaled_inputs_equal_priors)"
   ]
  },
  {
   "cell_type": "markdown",
   "id": "632cba80-cd69-45ea-b1f6-f987cf034072",
   "metadata": {},
   "source": [
    "### Shuffle the data for batching"
   ]
  },
  {
   "cell_type": "code",
   "execution_count": 26,
   "id": "3bda3ea6-48a9-4fdd-9a9f-759b3d0d8553",
   "metadata": {},
   "outputs": [],
   "source": [
    "shuffled_indices = np.arange(scaled_inputs.shape[0])\n",
    "np.random.shuffle(shuffled_indices)\n",
    "\n",
    "shuffled_inputs = scaled_inputs[shuffled_indices]\n",
    "shuffled_targets = targets_equal_priors[shuffled_indices]"
   ]
  },
  {
   "cell_type": "markdown",
   "id": "f4dd7cdc-fb4d-4846-a737-b8f3c83c15be",
   "metadata": {},
   "source": [
    "### Split the dataset into train, validation and test"
   ]
  },
  {
   "cell_type": "code",
   "execution_count": 27,
   "id": "d48b48d8-a037-4903-a515-ec3280d75d44",
   "metadata": {},
   "outputs": [
    {
     "name": "stdout",
     "output_type": "stream",
     "text": [
      "1786.0 3579 0.4990220732048058\n",
      "219.0 447 0.4899328859060403\n",
      "232.0 448 0.5178571428571429\n"
     ]
    }
   ],
   "source": [
    "sample_count = shuffled_inputs.shape[0]\n",
    "\n",
    "train_sample_count = int(0.8 * sample_count)\n",
    "validation_sample_count = int(0.1 * sample_count)\n",
    "test_sample_count = sample_count - train_sample_count - validation_sample_count\n",
    "\n",
    "# Train set\n",
    "train_inputs = shuffled_inputs[:train_sample_count]\n",
    "train_targets = shuffled_targets[:train_sample_count]\n",
    "\n",
    "# Validation set\n",
    "validation_inputs = shuffled_inputs[train_sample_count:train_sample_count + validation_sample_count]\n",
    "validation_targets = shuffled_targets[train_sample_count:train_sample_count + validation_sample_count]\n",
    "\n",
    "# Test set\n",
    "test_inputs = shuffled_inputs[train_sample_count + validation_sample_count:]\n",
    "test_targets = shuffled_targets[train_sample_count + validation_sample_count:]\n",
    "\n",
    "# Check the balance within each set\n",
    "print(np.sum(train_targets), train_sample_count, np.sum(train_targets) / train_sample_count)\n",
    "print(np.sum(validation_targets), validation_sample_count, np.sum(validation_targets) / validation_sample_count)\n",
    "print(np.sum(test_targets), test_sample_count, np.sum(test_targets) / test_sample_count)"
   ]
  },
  {
   "cell_type": "markdown",
   "id": "3e9f32f0-4e75-46ff-9655-d8cf4e1b4846",
   "metadata": {},
   "source": [
    "### Save the three datasets in .npz"
   ]
  },
  {
   "cell_type": "code",
   "execution_count": 28,
   "id": "598c1f49-e57a-46f9-b49a-35941de59826",
   "metadata": {},
   "outputs": [],
   "source": [
    "np.savez('Audiobooks_data_train', inputs = train_inputs, targets = train_targets)\n",
    "np.savez('Audiobooks_data_validation', inputs = validation_inputs, targets = validation_targets)\n",
    "np.savez('Audiobooks_data_test', inputs = test_inputs, targets = test_targets)"
   ]
  },
  {
   "cell_type": "code",
   "execution_count": null,
   "id": "46305e95-e0a3-400b-8a93-f08c8d7aa31a",
   "metadata": {},
   "outputs": [],
   "source": []
  }
 ],
 "metadata": {
  "kernelspec": {
   "display_name": "Python [conda env:py3-TF2.0]",
   "language": "python",
   "name": "conda-env-py3-TF2.0-py"
  },
  "language_info": {
   "codemirror_mode": {
    "name": "ipython",
    "version": 3
   },
   "file_extension": ".py",
   "mimetype": "text/x-python",
   "name": "python",
   "nbconvert_exporter": "python",
   "pygments_lexer": "ipython3",
   "version": "3.12.11"
  }
 },
 "nbformat": 4,
 "nbformat_minor": 5
}
