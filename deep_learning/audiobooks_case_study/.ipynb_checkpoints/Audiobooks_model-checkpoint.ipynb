{
 "cells": [
  {
   "cell_type": "markdown",
   "id": "9f7bda63-6810-41d2-be48-fb8a9c7e228f",
   "metadata": {},
   "source": [
    "## Create the machine learning algorithm"
   ]
  },
  {
   "cell_type": "code",
   "execution_count": 39,
   "id": "401b6839-93d1-407c-b5d9-1a9e4de36859",
   "metadata": {},
   "outputs": [],
   "source": [
    "import numpy as np\n",
    "import tensorflow as tf"
   ]
  },
  {
   "cell_type": "code",
   "execution_count": 40,
   "id": "90d2b36f-c535-46e8-b398-c2015a8cb1e8",
   "metadata": {},
   "outputs": [],
   "source": [
    "npz = np.load('Audiobooks_data_train.npz')\n",
    "\n",
    "train_inputs = npz['inputs'].astype(float)\n",
    "train_targets = npz['targets'].astype(int)\n",
    "\n",
    "npz = np.load('Audiobooks_data_validation.npz')\n",
    "\n",
    "validation_inputs = npz['inputs'].astype(float)\n",
    "validation_targets = npz['targets'].astype(int)\n",
    "\n",
    "npz = np.load('Audiobooks_data_test.npz')\n",
    "\n",
    "test_inputs = npz['inputs'].astype(float)\n",
    "test_targets = npz['targets'].astype(int)"
   ]
  },
  {
   "cell_type": "markdown",
   "id": "69f5b6ac-b232-4f65-baba-817c6938fdbf",
   "metadata": {},
   "source": [
    "### Build a model"
   ]
  },
  {
   "cell_type": "code",
   "execution_count": 44,
   "id": "56c92e8f-397b-439b-8b8b-451c557c67dd",
   "metadata": {},
   "outputs": [],
   "source": [
    "input_size = 10\n",
    "output_size = 2\n",
    "hidden_layer_size = 100\n",
    "\n",
    "model = tf.keras.Sequential([\n",
    "                            tf.keras.layers.Dense(hidden_layer_size, activation = 'relu'),\n",
    "                            tf.keras.layers.Dense(hidden_layer_size, activation = 'relu'),\n",
    "                            tf.keras.layers.Dense(output_size, activation = 'softmax')\n",
    "                            ])"
   ]
  },
  {
   "cell_type": "markdown",
   "id": "c8e4b8e6-7eb8-406b-9fd5-d075f9a34128",
   "metadata": {},
   "source": [
    "### Choose the Optimizer and the Loss function"
   ]
  },
  {
   "cell_type": "code",
   "execution_count": 45,
   "id": "0a7d82a3-0259-4f87-a8e9-e491ff97e744",
   "metadata": {},
   "outputs": [],
   "source": [
    "optimizer = tf.keras.optimizers.Adam(learning_rate=0.001)\n",
    "# sparse_categorical_crossentropy as targets are in for of integers\n",
    "model.compile(optimizer=optimizer,loss='sparse_categorical_crossentropy', metrics=['accuracy'])"
   ]
  },
  {
   "cell_type": "code",
   "execution_count": 48,
   "id": "295beca8-96e7-4ed7-9cbe-9e9fcf18fc7f",
   "metadata": {},
   "outputs": [
    {
     "name": "stdout",
     "output_type": "stream",
     "text": [
      "Epoch 1/100\n",
      "36/36 - 0s - 2ms/step - accuracy: 0.8192 - loss: 0.3408 - val_accuracy: 0.8210 - val_loss: 0.3542\n",
      "Epoch 2/100\n",
      "36/36 - 0s - 1ms/step - accuracy: 0.8178 - loss: 0.3367 - val_accuracy: 0.8121 - val_loss: 0.3558\n",
      "Epoch 3/100\n",
      "36/36 - 0s - 1ms/step - accuracy: 0.8181 - loss: 0.3339 - val_accuracy: 0.8054 - val_loss: 0.3532\n",
      "Epoch 4/100\n",
      "36/36 - 0s - 1ms/step - accuracy: 0.8148 - loss: 0.3305 - val_accuracy: 0.7942 - val_loss: 0.3381\n",
      "Epoch 5/100\n",
      "36/36 - 0s - 1ms/step - accuracy: 0.8279 - loss: 0.3248 - val_accuracy: 0.8098 - val_loss: 0.3453\n",
      "Epoch 6/100\n",
      "36/36 - 0s - 1ms/step - accuracy: 0.8223 - loss: 0.3266 - val_accuracy: 0.8188 - val_loss: 0.3327\n",
      "Epoch 7/100\n",
      "36/36 - 0s - 1ms/step - accuracy: 0.8251 - loss: 0.3214 - val_accuracy: 0.8098 - val_loss: 0.3433\n",
      "Epoch 8/100\n",
      "36/36 - 0s - 1ms/step - accuracy: 0.8321 - loss: 0.3184 - val_accuracy: 0.8188 - val_loss: 0.3331\n"
     ]
    },
    {
     "data": {
      "text/plain": [
       "<keras.src.callbacks.history.History at 0x302b0fcb0>"
      ]
     },
     "execution_count": 48,
     "metadata": {},
     "output_type": "execute_result"
    }
   ],
   "source": [
    "batch_size = 100\n",
    "max_epochs = 100\n",
    "\n",
    "early_stopping = tf.keras.callbacks.EarlyStopping(patience=2)\n",
    "\n",
    "model.fit(train_inputs,\n",
    "          train_targets,\n",
    "          batch_size = batch_size,\n",
    "          epochs = max_epochs,\n",
    "          callbacks = [early_stopping],\n",
    "          validation_data=(validation_inputs, validation_targets),\n",
    "          verbose = 2)"
   ]
  },
  {
   "cell_type": "markdown",
   "id": "be9fb72e-ead2-47f2-85bf-d2ce36b2a4c6",
   "metadata": {},
   "source": [
    "### Test the model"
   ]
  },
  {
   "cell_type": "code",
   "execution_count": 49,
   "id": "6b4266e0-0177-4667-81f4-f12103d10586",
   "metadata": {},
   "outputs": [
    {
     "name": "stdout",
     "output_type": "stream",
     "text": [
      "\u001b[1m14/14\u001b[0m \u001b[32m━━━━━━━━━━━━━━━━━━━━\u001b[0m\u001b[37m\u001b[0m \u001b[1m0s\u001b[0m 557us/step - accuracy: 0.8148 - loss: 0.3406\n"
     ]
    }
   ],
   "source": [
    "test_loss, test_accuracy = model.evaluate(test_inputs,test_targets)"
   ]
  },
  {
   "cell_type": "code",
   "execution_count": null,
   "id": "7ed36ddf-380c-48b1-9a0d-26ad50b5d0e0",
   "metadata": {},
   "outputs": [],
   "source": []
  }
 ],
 "metadata": {
  "kernelspec": {
   "display_name": "Python [conda env:py3-TF2.0]",
   "language": "python",
   "name": "conda-env-py3-TF2.0-py"
  },
  "language_info": {
   "codemirror_mode": {
    "name": "ipython",
    "version": 3
   },
   "file_extension": ".py",
   "mimetype": "text/x-python",
   "name": "python",
   "nbconvert_exporter": "python",
   "pygments_lexer": "ipython3",
   "version": "3.12.11"
  }
 },
 "nbformat": 4,
 "nbformat_minor": 5
}
